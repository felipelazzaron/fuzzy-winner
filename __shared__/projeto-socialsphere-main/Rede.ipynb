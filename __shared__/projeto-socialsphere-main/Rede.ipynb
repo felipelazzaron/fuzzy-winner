{
 "cells": [
  {
   "cell_type": "code",
   "execution_count": null,
   "id": "076c157c-a077-40ab-b0a3-4d73fe801586",
   "metadata": {},
   "outputs": [],
   "source": [
    "import graph_tool_extras as gte\n",
    "import netpixi\n",
    "from graph_tool import draw"
   ]
  },
  {
   "cell_type": "code",
   "execution_count": null,
   "id": "ed3b4ec7-5cf0-4198-aa0f-4b5e2af44afc",
   "metadata": {},
   "outputs": [],
   "source": [
    "PATH = './big_five_dataset.csv'"
   ]
  },
  {
   "cell_type": "code",
   "execution_count": null,
   "id": "41e944aa-adf9-4739-94ec-bb178573f9b8",
   "metadata": {},
   "outputs": [],
   "source": [
    "g = gte.Graph(directed=False)"
   ]
  },
  {
   "cell_type": "code",
   "execution_count": null,
   "id": "1495c4dd-90a0-4075-8b98-98be023b640e",
   "metadata": {},
   "outputs": [],
   "source": [
    "g = gte.Graph(directed=False)"
   ]
  },
  {
   "cell_type": "code",
   "execution_count": null,
   "id": "e3eeff34-0f02-4dae-baf2-b83f1ea3e4aa",
   "metadata": {},
   "outputs": [],
   "source": [
    "def get_or_add_vertex(g, id):\n",
    "    u = g.vertex_by_id(id)\n",
    "    if u is None:\n",
    "        u = g.add_vertex_by_id(id)\n",
    "    return u"
   ]
  },
  {
   "cell_type": "code",
   "execution_count": null,
   "id": "c739bbe9-d021-47d8-8ffc-9d2459a33a4f",
   "metadata": {},
   "outputs": [],
   "source": [
    "def get_or_add_edge(g, node1, node2):\n",
    "    e = g.edge_by_ids(node1, node2)\n",
    "    if e is None:\n",
    "        e = g.add_edge_by_ids(node1, node2)\n",
    "    return e"
   ]
  },
  {
   "cell_type": "code",
   "execution_count": null,
   "id": "f2f89069-003c-4bd1-b950-06ec9b2da2e8",
   "metadata": {},
   "outputs": [],
   "source": [
    "with open(PATH) as file:\n",
    "    next(file)\n",
    "    for line in file:\n",
    "        line = line.strip().split(',')\n",
    "        #Cria ou pega os vértices\n",
    "        get_or_add_vertex(g,line[0])\n",
    "        get_or_add_vertex(g,line[1])\n",
    "        #Cria ou pega as areatas\n",
    "        get_or_add_edge(g,line[0],line[1])"
   ]
  },
  {
   "cell_type": "code",
   "execution_count": null,
   "id": "a0833a78-a417-4e2b-b0f6-678753512a39",
   "metadata": {},
   "outputs": [],
   "source": [
    "g = gte.clean(g)"
   ]
  },
  {
   "cell_type": "code",
   "execution_count": null,
   "id": "b26084d1-9278-4442-a0fc-1df7721bcea2",
   "metadata": {},
   "outputs": [],
   "source": [
    "layout = draw.sfdp_layout(g)"
   ]
  },
  {
   "cell_type": "code",
   "execution_count": null,
   "id": "2d2a9f6c-d463-4921-9af5-69fab089a15e",
   "metadata": {},
   "outputs": [],
   "source": [
    "gte.move(g, layout)"
   ]
  },
  {
   "cell_type": "code",
   "execution_count": null,
   "id": "4a6c576d-0f93-49da-aefd-8cbd37abe494",
   "metadata": {},
   "outputs": [],
   "source": [
    "gte.save(g, 'big_five_agree.net.gz')"
   ]
  },
  {
   "cell_type": "code",
   "execution_count": null,
   "id": "81a85d30-8a3a-494e-9b11-ba191e5e2c65",
   "metadata": {},
   "outputs": [],
   "source": [
    "r = netpixi.render('big_five_agree.net.gz',infinite=True)"
   ]
  },
  {
   "cell_type": "code",
   "execution_count": null,
   "id": "68128e7b-b602-4797-81b6-8581c35b7710",
   "metadata": {},
   "outputs": [],
   "source": [
    "r.vertex_default(size=4, bwidth=1)"
   ]
  },
  {
   "cell_type": "code",
   "execution_count": null,
   "id": "8dbcdac6-185c-4df3-a402-0c7f85f49987",
   "metadata": {},
   "outputs": [],
   "source": [
    "r.edge_default(width=1)"
   ]
  },
  {
   "cell_type": "code",
   "execution_count": null,
   "id": "9e28c883-37f5-4af8-83ad-064637b2abfb",
   "metadata": {},
   "outputs": [],
   "source": []
  },
  {
   "cell_type": "code",
   "execution_count": null,
   "id": "06a92a44-ef63-442b-ad6f-a7de878f6ba7",
   "metadata": {},
   "outputs": [],
   "source": []
  },
  {
   "cell_type": "code",
   "execution_count": null,
   "id": "c18fea36-a5ba-4b11-b4af-de20e18ecc70",
   "metadata": {},
   "outputs": [],
   "source": []
  },
  {
   "cell_type": "code",
   "execution_count": null,
   "id": "2ff34493-9e7c-4514-bf90-abf6c53cbdc4",
   "metadata": {},
   "outputs": [],
   "source": []
  }
 ],
 "metadata": {
  "kernelspec": {
   "display_name": "Python 3 (ipykernel)",
   "language": "python",
   "name": "python3"
  },
  "language_info": {
   "codemirror_mode": {
    "name": "ipython",
    "version": 3
   },
   "file_extension": ".py",
   "mimetype": "text/x-python",
   "name": "python",
   "nbconvert_exporter": "python",
   "pygments_lexer": "ipython3",
   "version": "3.11.5"
  }
 },
 "nbformat": 4,
 "nbformat_minor": 5
}
