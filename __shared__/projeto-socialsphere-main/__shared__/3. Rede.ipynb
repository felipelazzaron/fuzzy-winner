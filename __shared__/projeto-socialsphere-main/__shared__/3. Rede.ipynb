{
 "cells": [
  {
   "cell_type": "code",
   "execution_count": 15,
   "id": "076c157c-a077-40ab-b0a3-4d73fe801586",
   "metadata": {
    "execution": {
     "iopub.execute_input": "2023-10-26T02:35:47.267885Z",
     "iopub.status.busy": "2023-10-26T02:35:47.265416Z",
     "iopub.status.idle": "2023-10-26T02:35:47.285484Z",
     "shell.execute_reply": "2023-10-26T02:35:47.283894Z",
     "shell.execute_reply.started": "2023-10-26T02:35:47.267816Z"
    }
   },
   "outputs": [],
   "source": [
    "import graph_tool_extras as gte\n",
    "import netpixi\n",
    "from graph_tool import draw"
   ]
  },
  {
   "cell_type": "code",
   "execution_count": 16,
   "id": "ed3b4ec7-5cf0-4198-aa0f-4b5e2af44afc",
   "metadata": {
    "execution": {
     "iopub.execute_input": "2023-10-26T02:35:47.460735Z",
     "iopub.status.busy": "2023-10-26T02:35:47.460311Z",
     "iopub.status.idle": "2023-10-26T02:35:47.467205Z",
     "shell.execute_reply": "2023-10-26T02:35:47.465919Z",
     "shell.execute_reply.started": "2023-10-26T02:35:47.460704Z"
    }
   },
   "outputs": [],
   "source": [
    "PATH = './grafo_de_similaridade.csv'"
   ]
  },
  {
   "cell_type": "code",
   "execution_count": 17,
   "id": "41e944aa-adf9-4739-94ec-bb178573f9b8",
   "metadata": {
    "execution": {
     "iopub.execute_input": "2023-10-26T02:35:47.637302Z",
     "iopub.status.busy": "2023-10-26T02:35:47.636542Z",
     "iopub.status.idle": "2023-10-26T02:35:47.666765Z",
     "shell.execute_reply": "2023-10-26T02:35:47.663990Z",
     "shell.execute_reply.started": "2023-10-26T02:35:47.637278Z"
    }
   },
   "outputs": [],
   "source": [
    "g = gte.Graph(directed=False)"
   ]
  },
  {
   "cell_type": "code",
   "execution_count": 18,
   "id": "1495c4dd-90a0-4075-8b98-98be023b640e",
   "metadata": {
    "execution": {
     "iopub.execute_input": "2023-10-26T02:35:47.812031Z",
     "iopub.status.busy": "2023-10-26T02:35:47.810953Z",
     "iopub.status.idle": "2023-10-26T02:35:47.816659Z",
     "shell.execute_reply": "2023-10-26T02:35:47.815313Z",
     "shell.execute_reply.started": "2023-10-26T02:35:47.811995Z"
    }
   },
   "outputs": [],
   "source": [
    "g = gte.Graph(directed=False)"
   ]
  },
  {
   "cell_type": "code",
   "execution_count": 19,
   "id": "e3eeff34-0f02-4dae-baf2-b83f1ea3e4aa",
   "metadata": {
    "execution": {
     "iopub.execute_input": "2023-10-26T02:35:47.983905Z",
     "iopub.status.busy": "2023-10-26T02:35:47.983234Z",
     "iopub.status.idle": "2023-10-26T02:35:47.989573Z",
     "shell.execute_reply": "2023-10-26T02:35:47.988499Z",
     "shell.execute_reply.started": "2023-10-26T02:35:47.983884Z"
    }
   },
   "outputs": [],
   "source": [
    "def get_or_add_vertex(g, id):\n",
    "    u = g.vertex_by_id(id)\n",
    "    if u is None:\n",
    "        u = g.add_vertex_by_id(id)\n",
    "    return u"
   ]
  },
  {
   "cell_type": "code",
   "execution_count": 20,
   "id": "c739bbe9-d021-47d8-8ffc-9d2459a33a4f",
   "metadata": {
    "execution": {
     "iopub.execute_input": "2023-10-26T02:35:48.145167Z",
     "iopub.status.busy": "2023-10-26T02:35:48.144772Z",
     "iopub.status.idle": "2023-10-26T02:35:48.151666Z",
     "shell.execute_reply": "2023-10-26T02:35:48.150194Z",
     "shell.execute_reply.started": "2023-10-26T02:35:48.145145Z"
    }
   },
   "outputs": [],
   "source": [
    "def get_or_add_edge(g, node1, node2):\n",
    "    e = g.edge_by_ids(node1, node2)\n",
    "    if e is None:\n",
    "        e = g.add_edge_by_ids(node1, node2)\n",
    "    return e"
   ]
  },
  {
   "cell_type": "code",
   "execution_count": 21,
   "id": "f2f89069-003c-4bd1-b950-06ec9b2da2e8",
   "metadata": {
    "execution": {
     "iopub.execute_input": "2023-10-26T02:35:48.330719Z",
     "iopub.status.busy": "2023-10-26T02:35:48.330046Z",
     "iopub.status.idle": "2023-10-26T02:35:50.292872Z",
     "shell.execute_reply": "2023-10-26T02:35:50.292413Z",
     "shell.execute_reply.started": "2023-10-26T02:35:48.330695Z"
    }
   },
   "outputs": [],
   "source": [
    "with open(PATH) as file:\n",
    "    next(file)\n",
    "    for line in file:\n",
    "        line = line.strip().split(',')\n",
    "        #Cria ou pega os vértices\n",
    "        get_or_add_vertex(g,line[0])\n",
    "        get_or_add_vertex(g,line[1])\n",
    "        #Cria ou pega as areatas\n",
    "        get_or_add_edge(g,line[0],line[1])"
   ]
  },
  {
   "cell_type": "code",
   "execution_count": 22,
   "id": "a0833a78-a417-4e2b-b0f6-678753512a39",
   "metadata": {
    "execution": {
     "iopub.execute_input": "2023-10-26T02:35:50.296780Z",
     "iopub.status.busy": "2023-10-26T02:35:50.296431Z",
     "iopub.status.idle": "2023-10-26T02:35:50.338440Z",
     "shell.execute_reply": "2023-10-26T02:35:50.337858Z",
     "shell.execute_reply.started": "2023-10-26T02:35:50.296764Z"
    }
   },
   "outputs": [],
   "source": [
    "g = gte.clean(g)"
   ]
  },
  {
   "cell_type": "code",
   "execution_count": 23,
   "id": "b26084d1-9278-4442-a0fc-1df7721bcea2",
   "metadata": {
    "execution": {
     "iopub.execute_input": "2023-10-26T02:35:50.339730Z",
     "iopub.status.busy": "2023-10-26T02:35:50.339528Z",
     "iopub.status.idle": "2023-10-26T02:36:00.528413Z",
     "shell.execute_reply": "2023-10-26T02:36:00.527243Z",
     "shell.execute_reply.started": "2023-10-26T02:35:50.339718Z"
    }
   },
   "outputs": [],
   "source": [
    "layout = draw.sfdp_layout(g)"
   ]
  },
  {
   "cell_type": "code",
   "execution_count": 24,
   "id": "2d2a9f6c-d463-4921-9af5-69fab089a15e",
   "metadata": {
    "execution": {
     "iopub.execute_input": "2023-10-26T02:36:00.531558Z",
     "iopub.status.busy": "2023-10-26T02:36:00.531354Z",
     "iopub.status.idle": "2023-10-26T02:36:00.685429Z",
     "shell.execute_reply": "2023-10-26T02:36:00.685007Z",
     "shell.execute_reply.started": "2023-10-26T02:36:00.531525Z"
    }
   },
   "outputs": [],
   "source": [
    "gte.move(g, layout)"
   ]
  },
  {
   "cell_type": "code",
   "execution_count": 25,
   "id": "4a6c576d-0f93-49da-aefd-8cbd37abe494",
   "metadata": {
    "execution": {
     "iopub.execute_input": "2023-10-26T02:36:00.686174Z",
     "iopub.status.busy": "2023-10-26T02:36:00.686044Z",
     "iopub.status.idle": "2023-10-26T02:36:04.247008Z",
     "shell.execute_reply": "2023-10-26T02:36:04.246668Z",
     "shell.execute_reply.started": "2023-10-26T02:36:00.686158Z"
    }
   },
   "outputs": [],
   "source": [
    "gte.save(g, 'big_five_agree.net.gz')"
   ]
  },
  {
   "cell_type": "code",
   "execution_count": 26,
   "id": "81a85d30-8a3a-494e-9b11-ba191e5e2c65",
   "metadata": {
    "execution": {
     "iopub.execute_input": "2023-10-26T02:36:04.247631Z",
     "iopub.status.busy": "2023-10-26T02:36:04.247514Z",
     "iopub.status.idle": "2023-10-26T02:36:04.254950Z",
     "shell.execute_reply": "2023-10-26T02:36:04.253989Z",
     "shell.execute_reply.started": "2023-10-26T02:36:04.247621Z"
    }
   },
   "outputs": [
    {
     "data": {
      "text/html": [
       "\n",
       "        <div id=\"ATVAMLFHXtMubH2QknFk6G\"></div>\n",
       "        <script>netpixi.render('ATVAMLFHXtMubH2QknFk6G', '/static/__shared__/projeto-socialsphere-main/__shared__/big_five_agree.net.gz', 1.7777777777777777, true, true, false, true);</script>\n",
       "    "
      ],
      "text/plain": [
       "<IPython.core.display.HTML object>"
      ]
     },
     "metadata": {},
     "output_type": "display_data"
    }
   ],
   "source": [
    "r = netpixi.render('big_five_agree.net.gz',infinite=True)"
   ]
  },
  {
   "cell_type": "code",
   "execution_count": 29,
   "id": "68128e7b-b602-4797-81b6-8581c35b7710",
   "metadata": {
    "execution": {
     "iopub.execute_input": "2023-10-26T02:36:12.692866Z",
     "iopub.status.busy": "2023-10-26T02:36:12.689042Z",
     "iopub.status.idle": "2023-10-26T02:36:12.704029Z",
     "shell.execute_reply": "2023-10-26T02:36:12.703290Z",
     "shell.execute_reply.started": "2023-10-26T02:36:12.692664Z"
    }
   },
   "outputs": [
    {
     "data": {
      "text/html": [
       "\n",
       "        <div id=\"HwTxHPegHRpVZ4feAXx2sg\"></div>\n",
       "        <script>netpixi.call('HwTxHPegHRpVZ4feAXx2sg', 'ATVAMLFHXtMubH2QknFk6G', 'changeGraph', 'eyJ0eXBlIjogInNldHRpbmdzIiwgInByb3BzIjogeyJ2ZXJ0ZXgiOiB7InNpemUiOiA0LCAiYndpZHRoIjogMX19fQo=');</script>\n",
       "    "
      ],
      "text/plain": [
       "<IPython.core.display.HTML object>"
      ]
     },
     "metadata": {},
     "output_type": "display_data"
    }
   ],
   "source": [
    "r.vertex_default(size=4, bwidth=1)"
   ]
  },
  {
   "cell_type": "code",
   "execution_count": 30,
   "id": "8dbcdac6-185c-4df3-a402-0c7f85f49987",
   "metadata": {
    "execution": {
     "iopub.execute_input": "2023-10-26T02:36:13.997605Z",
     "iopub.status.busy": "2023-10-26T02:36:13.995603Z",
     "iopub.status.idle": "2023-10-26T02:36:14.006339Z",
     "shell.execute_reply": "2023-10-26T02:36:14.005448Z",
     "shell.execute_reply.started": "2023-10-26T02:36:13.997564Z"
    }
   },
   "outputs": [
    {
     "data": {
      "text/html": [
       "\n",
       "        <div id=\"e3pkMdbs5b9zfF2Sz94LzU\"></div>\n",
       "        <script>netpixi.call('e3pkMdbs5b9zfF2Sz94LzU', 'ATVAMLFHXtMubH2QknFk6G', 'changeGraph', 'eyJ0eXBlIjogInNldHRpbmdzIiwgInByb3BzIjogeyJlZGdlIjogeyJ3aWR0aCI6IDF9fX0K');</script>\n",
       "    "
      ],
      "text/plain": [
       "<IPython.core.display.HTML object>"
      ]
     },
     "metadata": {},
     "output_type": "display_data"
    }
   ],
   "source": [
    "r.edge_default(width=1)"
   ]
  },
  {
   "cell_type": "code",
   "execution_count": null,
   "id": "9e28c883-37f5-4af8-83ad-064637b2abfb",
   "metadata": {},
   "outputs": [],
   "source": [
    "# Mapeie os nós para as cores dos clusters com base no dataset original\n",
    "cluster_colors = {}\n",
    "for node in G.nodes():\n",
    "    cluster = df.loc[node, 'cluster']  # Obtém o cluster para o nó do dataset original\n",
    "    # Defina uma cor diferente para cada cluster (você pode personalizar as cores)\n",
    "    if cluster not in cluster_colors:\n",
    "        cluster_colors[cluster] = 'cor_da_sua_escolha'\n",
    "    G.node[node]['fill'] = cluster_colors[cluster]"
   ]
  },
  {
   "cell_type": "code",
   "execution_count": null,
   "id": "06a92a44-ef63-442b-ad6f-a7de878f6ba7",
   "metadata": {},
   "outputs": [],
   "source": []
  },
  {
   "cell_type": "code",
   "execution_count": null,
   "id": "c18fea36-a5ba-4b11-b4af-de20e18ecc70",
   "metadata": {},
   "outputs": [],
   "source": []
  },
  {
   "cell_type": "code",
   "execution_count": null,
   "id": "2ff34493-9e7c-4514-bf90-abf6c53cbdc4",
   "metadata": {},
   "outputs": [],
   "source": []
  }
 ],
 "metadata": {
  "kernelspec": {
   "display_name": "Python 3 (ipykernel)",
   "language": "python",
   "name": "python3"
  },
  "language_info": {
   "codemirror_mode": {
    "name": "ipython",
    "version": 3
   },
   "file_extension": ".py",
   "mimetype": "text/x-python",
   "name": "python",
   "nbconvert_exporter": "python",
   "pygments_lexer": "ipython3",
   "version": "3.11.6"
  }
 },
 "nbformat": 4,
 "nbformat_minor": 5
}
