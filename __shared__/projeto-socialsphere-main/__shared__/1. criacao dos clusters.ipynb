{
 "cells": [
  {
   "cell_type": "code",
   "execution_count": 2,
   "id": "284d0add-fe51-4e56-ac04-2f16cf3efe53",
   "metadata": {
    "execution": {
     "iopub.execute_input": "2023-10-26T00:52:38.301896Z",
     "iopub.status.busy": "2023-10-26T00:52:38.301530Z",
     "iopub.status.idle": "2023-10-26T00:52:39.583570Z",
     "shell.execute_reply": "2023-10-26T00:52:39.582902Z",
     "shell.execute_reply.started": "2023-10-26T00:52:38.301870Z"
    }
   },
   "outputs": [
    {
     "name": "stdout",
     "output_type": "stream",
     "text": [
      "Requirement already satisfied: scikit-learn in /usr/local/lib/python3.11/site-packages (1.3.2)\n",
      "Requirement already satisfied: numpy<2.0,>=1.17.3 in /usr/lib/python3/dist-packages (from scikit-learn) (1.24.2)\n",
      "Requirement already satisfied: scipy>=1.5.0 in /usr/lib/python3/dist-packages (from scikit-learn) (1.10.1)\n",
      "Requirement already satisfied: joblib>=1.1.1 in /usr/local/lib/python3.11/site-packages (from scikit-learn) (1.3.2)\n",
      "Requirement already satisfied: threadpoolctl>=2.0.0 in /usr/local/lib/python3.11/site-packages (from scikit-learn) (3.2.0)\n",
      "\u001b[33mWARNING: Running pip as the 'root' user can result in broken permissions and conflicting behaviour with the system package manager. It is recommended to use a virtual environment instead: https://pip.pypa.io/warnings/venv\u001b[0m\u001b[33m\n",
      "\u001b[0mNote: you may need to restart the kernel to use updated packages.\n"
     ]
    }
   ],
   "source": [
    "pip install scikit-learn"
   ]
  },
  {
   "cell_type": "code",
   "execution_count": 2,
   "id": "c05a4aee",
   "metadata": {
    "execution": {
     "iopub.execute_input": "2023-10-26T01:48:57.393008Z",
     "iopub.status.busy": "2023-10-26T01:48:57.390737Z",
     "iopub.status.idle": "2023-10-26T01:48:58.294412Z",
     "shell.execute_reply": "2023-10-26T01:48:58.294032Z",
     "shell.execute_reply.started": "2023-10-26T01:48:57.392923Z"
    }
   },
   "outputs": [],
   "source": [
    "import pandas as pd\n",
    "from sklearn.cluster import KMeans\n",
    "from sklearn.model_selection import train_test_split"
   ]
  },
  {
   "cell_type": "code",
   "execution_count": 4,
   "id": "ebed7559-5741-4ecc-836f-7b6c6a6a81b7",
   "metadata": {
    "execution": {
     "iopub.execute_input": "2023-10-26T01:49:48.164625Z",
     "iopub.status.busy": "2023-10-26T01:49:48.158292Z",
     "iopub.status.idle": "2023-10-26T01:49:52.082902Z",
     "shell.execute_reply": "2023-10-26T01:49:52.080672Z",
     "shell.execute_reply.started": "2023-10-26T01:49:48.164522Z"
    }
   },
   "outputs": [],
   "source": [
    "df = pd.read_csv(\"amostra_aleatoria.csv\")"
   ]
  },
  {
   "cell_type": "code",
   "execution_count": 5,
   "id": "92a24525-dd32-427b-b58f-7939b2af82c1",
   "metadata": {
    "execution": {
     "iopub.execute_input": "2023-10-26T01:49:52.808938Z",
     "iopub.status.busy": "2023-10-26T01:49:52.808245Z",
     "iopub.status.idle": "2023-10-26T01:49:52.894986Z",
     "shell.execute_reply": "2023-10-26T01:49:52.894348Z",
     "shell.execute_reply.started": "2023-10-26T01:49:52.808887Z"
    }
   },
   "outputs": [
    {
     "data": {
      "text/html": [
       "<div>\n",
       "<style scoped>\n",
       "    .dataframe tbody tr th:only-of-type {\n",
       "        vertical-align: middle;\n",
       "    }\n",
       "\n",
       "    .dataframe tbody tr th {\n",
       "        vertical-align: top;\n",
       "    }\n",
       "\n",
       "    .dataframe thead th {\n",
       "        text-align: right;\n",
       "    }\n",
       "</style>\n",
       "<table border=\"1\" class=\"dataframe\">\n",
       "  <thead>\n",
       "    <tr style=\"text-align: right;\">\n",
       "      <th></th>\n",
       "      <th>EXT1</th>\n",
       "      <th>EXT2</th>\n",
       "      <th>EXT3</th>\n",
       "      <th>EXT4</th>\n",
       "      <th>EXT5</th>\n",
       "      <th>EXT6</th>\n",
       "      <th>EXT7</th>\n",
       "      <th>EXT8</th>\n",
       "      <th>EXT9</th>\n",
       "      <th>EXT10</th>\n",
       "      <th>...</th>\n",
       "      <th>OPN5_E</th>\n",
       "      <th>OPN6_E</th>\n",
       "      <th>OPN7_E</th>\n",
       "      <th>OPN8_E</th>\n",
       "      <th>OPN9_E</th>\n",
       "      <th>OPN10_E</th>\n",
       "      <th>dateload</th>\n",
       "      <th>country</th>\n",
       "      <th>lat_appx_lots_of_err</th>\n",
       "      <th>long_appx_lots_of_err</th>\n",
       "    </tr>\n",
       "  </thead>\n",
       "  <tbody>\n",
       "    <tr>\n",
       "      <th>0</th>\n",
       "      <td>1.0</td>\n",
       "      <td>3.0</td>\n",
       "      <td>2.0</td>\n",
       "      <td>4.0</td>\n",
       "      <td>1.0</td>\n",
       "      <td>3.0</td>\n",
       "      <td>1.0</td>\n",
       "      <td>5.0</td>\n",
       "      <td>1.0</td>\n",
       "      <td>5.0</td>\n",
       "      <td>...</td>\n",
       "      <td>1993.0</td>\n",
       "      <td>1619.0</td>\n",
       "      <td>1667.0</td>\n",
       "      <td>2377.0</td>\n",
       "      <td>2925.0</td>\n",
       "      <td>916.0</td>\n",
       "      <td>2016-08-25 15:53:43</td>\n",
       "      <td>US</td>\n",
       "      <td>32.8807</td>\n",
       "      <td>-117.2359</td>\n",
       "    </tr>\n",
       "    <tr>\n",
       "      <th>1</th>\n",
       "      <td>4.0</td>\n",
       "      <td>1.0</td>\n",
       "      <td>5.0</td>\n",
       "      <td>1.0</td>\n",
       "      <td>4.0</td>\n",
       "      <td>1.0</td>\n",
       "      <td>5.0</td>\n",
       "      <td>2.0</td>\n",
       "      <td>4.0</td>\n",
       "      <td>1.0</td>\n",
       "      <td>...</td>\n",
       "      <td>3304.0</td>\n",
       "      <td>3456.0</td>\n",
       "      <td>2648.0</td>\n",
       "      <td>1744.0</td>\n",
       "      <td>2847.0</td>\n",
       "      <td>3648.0</td>\n",
       "      <td>2017-03-13 05:17:21</td>\n",
       "      <td>US</td>\n",
       "      <td>39.7887</td>\n",
       "      <td>-84.2163</td>\n",
       "    </tr>\n",
       "    <tr>\n",
       "      <th>2</th>\n",
       "      <td>2.0</td>\n",
       "      <td>2.0</td>\n",
       "      <td>5.0</td>\n",
       "      <td>1.0</td>\n",
       "      <td>5.0</td>\n",
       "      <td>1.0</td>\n",
       "      <td>4.0</td>\n",
       "      <td>2.0</td>\n",
       "      <td>5.0</td>\n",
       "      <td>1.0</td>\n",
       "      <td>...</td>\n",
       "      <td>1583.0</td>\n",
       "      <td>2843.0</td>\n",
       "      <td>10939.0</td>\n",
       "      <td>8427.0</td>\n",
       "      <td>2554.0</td>\n",
       "      <td>1541.0</td>\n",
       "      <td>2017-03-16 15:22:13</td>\n",
       "      <td>US</td>\n",
       "      <td>37.0505</td>\n",
       "      <td>-76.3523</td>\n",
       "    </tr>\n",
       "  </tbody>\n",
       "</table>\n",
       "<p>3 rows × 104 columns</p>\n",
       "</div>"
      ],
      "text/plain": [
       "   EXT1  EXT2  EXT3  EXT4  EXT5  EXT6  EXT7  EXT8  EXT9  EXT10  ...  OPN5_E  \\\n",
       "0   1.0   3.0   2.0   4.0   1.0   3.0   1.0   5.0   1.0    5.0  ...  1993.0   \n",
       "1   4.0   1.0   5.0   1.0   4.0   1.0   5.0   2.0   4.0    1.0  ...  3304.0   \n",
       "2   2.0   2.0   5.0   1.0   5.0   1.0   4.0   2.0   5.0    1.0  ...  1583.0   \n",
       "\n",
       "   OPN6_E   OPN7_E  OPN8_E  OPN9_E  OPN10_E             dateload  country  \\\n",
       "0  1619.0   1667.0  2377.0  2925.0    916.0  2016-08-25 15:53:43       US   \n",
       "1  3456.0   2648.0  1744.0  2847.0   3648.0  2017-03-13 05:17:21       US   \n",
       "2  2843.0  10939.0  8427.0  2554.0   1541.0  2017-03-16 15:22:13       US   \n",
       "\n",
       "   lat_appx_lots_of_err  long_appx_lots_of_err  \n",
       "0               32.8807              -117.2359  \n",
       "1               39.7887               -84.2163  \n",
       "2               37.0505               -76.3523  \n",
       "\n",
       "[3 rows x 104 columns]"
      ]
     },
     "execution_count": 5,
     "metadata": {},
     "output_type": "execute_result"
    }
   ],
   "source": [
    "df.head(3)"
   ]
  },
  {
   "cell_type": "code",
   "execution_count": 6,
   "id": "dc3e1f4e-dbd3-494f-85bf-d14fc1ea0981",
   "metadata": {
    "execution": {
     "iopub.execute_input": "2023-10-26T01:49:53.808764Z",
     "iopub.status.busy": "2023-10-26T01:49:53.807835Z",
     "iopub.status.idle": "2023-10-26T01:49:56.816525Z",
     "shell.execute_reply": "2023-10-26T01:49:56.813630Z",
     "shell.execute_reply.started": "2023-10-26T01:49:53.808717Z"
    }
   },
   "outputs": [
    {
     "name": "stderr",
     "output_type": "stream",
     "text": [
      "/usr/local/lib/python3.11/site-packages/sklearn/cluster/_kmeans.py:1416: FutureWarning: The default value of `n_init` will change from 10 to 'auto' in 1.4. Set the value of `n_init` explicitly to suppress the warning\n",
      "  super()._check_params_vs_input(X, default_n_init=10)\n"
     ]
    }
   ],
   "source": [
    "\n",
    "# Suponha que você tem um DataFrame chamado 'df' com colunas 'latitude' e 'longitude'.\n",
    "# Neste exemplo, usaremos 5 clusters (você pode ajustar o número conforme necessário).\n",
    "num_clusters = 20\n",
    "\n",
    "# Crie uma matriz de coordenadas a partir das colunas 'latitude' e 'longitude'.\n",
    "coordinates = df[['lat_appx_lots_of_err', 'long_appx_lots_of_err']].values\n",
    "\n",
    "# Aplique o algoritmo K-Means para agrupar as coordenadas em clusters.\n",
    "kmeans = KMeans(n_clusters=num_clusters, random_state=42)\n",
    "df['cluster'] = kmeans.fit_predict(coordinates)\n",
    "\n",
    "# Divida os dados em grupos estratificados com base nos clusters gerados.\n",
    "stratified_data = df.groupby('cluster', group_keys=False).apply(lambda x: x.sample(frac=1))  # Exemplo: amostra de 20% por cluster\n",
    "\n",
    "# Agora você tem uma amostra estratificada em 'stratified_data'.\n"
   ]
  },
  {
   "cell_type": "code",
   "execution_count": 7,
   "id": "4e1329b4-46a3-42e5-84ce-3ff09e9661bb",
   "metadata": {
    "execution": {
     "iopub.execute_input": "2023-10-26T01:49:56.827378Z",
     "iopub.status.busy": "2023-10-26T01:49:56.826774Z",
     "iopub.status.idle": "2023-10-26T01:49:56.847651Z",
     "shell.execute_reply": "2023-10-26T01:49:56.846482Z",
     "shell.execute_reply.started": "2023-10-26T01:49:56.827330Z"
    }
   },
   "outputs": [
    {
     "data": {
      "text/plain": [
       "cluster\n",
       "1     69990\n",
       "19    22309\n",
       "15    18897\n",
       "11    17958\n",
       "2     15957\n",
       "14    15107\n",
       "13    14276\n",
       "3     13815\n",
       "7     12721\n",
       "0     11451\n",
       "6     10947\n",
       "5      9639\n",
       "4      8961\n",
       "17     7999\n",
       "18     6667\n",
       "10     5611\n",
       "16     5490\n",
       "12     3679\n",
       "8       887\n",
       "9       595\n",
       "Name: count, dtype: int64"
      ]
     },
     "execution_count": 7,
     "metadata": {},
     "output_type": "execute_result"
    }
   ],
   "source": [
    "stratified_data.cluster.value_counts()"
   ]
  },
  {
   "cell_type": "code",
   "execution_count": 8,
   "id": "e242f212-bca8-4038-85fd-f13083891ab2",
   "metadata": {
    "execution": {
     "iopub.execute_input": "2023-10-26T01:49:59.322545Z",
     "iopub.status.busy": "2023-10-26T01:49:59.321242Z",
     "iopub.status.idle": "2023-10-26T01:50:00.912887Z",
     "shell.execute_reply": "2023-10-26T01:50:00.912255Z",
     "shell.execute_reply.started": "2023-10-26T01:49:59.322493Z"
    }
   },
   "outputs": [
    {
     "name": "stdout",
     "output_type": "stream",
     "text": [
      "Requirement already satisfied: folium in /usr/local/lib/python3.11/site-packages (0.14.0)\n",
      "Requirement already satisfied: geopy in /usr/local/lib/python3.11/site-packages (2.4.0)\n",
      "Requirement already satisfied: branca>=0.6.0 in /usr/local/lib/python3.11/site-packages (from folium) (0.6.0)\n",
      "Requirement already satisfied: jinja2>=2.9 in /usr/local/lib/python3.11/site-packages (from folium) (3.1.2)\n",
      "Requirement already satisfied: numpy in /usr/lib/python3/dist-packages (from folium) (1.24.2)\n",
      "Requirement already satisfied: requests in /usr/local/lib/python3.11/site-packages (from folium) (2.31.0)\n",
      "Requirement already satisfied: geographiclib<3,>=1.52 in /usr/local/lib/python3.11/site-packages (from geopy) (2.0)\n",
      "Requirement already satisfied: MarkupSafe>=2.0 in /usr/local/lib/python3.11/site-packages (from jinja2>=2.9->folium) (2.1.3)\n",
      "Requirement already satisfied: charset-normalizer<4,>=2 in /usr/local/lib/python3.11/site-packages (from requests->folium) (3.3.0)\n",
      "Requirement already satisfied: idna<4,>=2.5 in /usr/local/lib/python3.11/site-packages (from requests->folium) (3.4)\n",
      "Requirement already satisfied: urllib3<3,>=1.21.1 in /usr/local/lib/python3.11/site-packages (from requests->folium) (2.0.6)\n",
      "Requirement already satisfied: certifi>=2017.4.17 in /usr/local/lib/python3.11/site-packages (from requests->folium) (2023.7.22)\n",
      "\u001b[33mWARNING: Running pip as the 'root' user can result in broken permissions and conflicting behaviour with the system package manager. It is recommended to use a virtual environment instead: https://pip.pypa.io/warnings/venv\u001b[0m\u001b[33m\n",
      "\u001b[0mNote: you may need to restart the kernel to use updated packages.\n"
     ]
    }
   ],
   "source": [
    "pip install folium geopy"
   ]
  },
  {
   "cell_type": "code",
   "execution_count": 15,
   "id": "8e6551a4-b3ed-4cae-bf9d-d58889e0025a",
   "metadata": {
    "execution": {
     "iopub.execute_input": "2023-10-26T01:56:06.765058Z",
     "iopub.status.busy": "2023-10-26T01:56:06.757890Z",
     "iopub.status.idle": "2023-10-26T01:56:08.620682Z",
     "shell.execute_reply": "2023-10-26T01:56:08.618350Z",
     "shell.execute_reply.started": "2023-10-26T01:56:06.764393Z"
    }
   },
   "outputs": [],
   "source": [
    "import pandas as pd\n",
    "import random\n",
    "\n",
    "# Suponha que você tem o DataFrame 'df' com as colunas 'cluster' que representa os clusters e 'pessoas' que representa a quantidade de pessoas em cada cluster.\n",
    "# Primeiro, encontre os clusters com pelo menos 10.000 pessoas.\n",
    "clusters_mais_de_10000 = df.groupby('cluster').filter(lambda x: len(x) >= 10000)\n",
    "\n",
    "# Em seguida, selecione aleatoriamente 10.000 pontos de cada um dos clusters restantes.\n",
    "amostra_final = pd.DataFrame()\n",
    "for cluster in clusters_mais_de_10000['cluster'].unique():\n",
    "    cluster_data = clusters_mais_de_10000[clusters_mais_de_10000['cluster'] == cluster]\n",
    "    if len(cluster_data) > 10000:\n",
    "        selected_points = random.sample(cluster_data.index.tolist(), 1000)\n",
    "        amostra_final = pd.concat([amostra_final, cluster_data.loc[selected_points]])\n",
    "\n",
    "# 'amostra_final' agora contém uma amostra aleatória de 10.000 pontos de cada cluster com pelo menos 10.000 pessoas.\n"
   ]
  },
  {
   "cell_type": "code",
   "execution_count": 16,
   "id": "7c2f8db3-8135-44f1-83bb-8b14491b4452",
   "metadata": {
    "execution": {
     "iopub.execute_input": "2023-10-26T01:56:09.428791Z",
     "iopub.status.busy": "2023-10-26T01:56:09.427954Z",
     "iopub.status.idle": "2023-10-26T01:56:09.492928Z",
     "shell.execute_reply": "2023-10-26T01:56:09.492045Z",
     "shell.execute_reply.started": "2023-10-26T01:56:09.428764Z"
    }
   },
   "outputs": [
    {
     "data": {
      "text/plain": [
       "cluster\n",
       "2     1000\n",
       "11    1000\n",
       "15    1000\n",
       "3     1000\n",
       "1     1000\n",
       "14    1000\n",
       "7     1000\n",
       "0     1000\n",
       "13    1000\n",
       "6     1000\n",
       "19    1000\n",
       "Name: count, dtype: int64"
      ]
     },
     "execution_count": 16,
     "metadata": {},
     "output_type": "execute_result"
    }
   ],
   "source": [
    "amostra_final.cluster.value_counts()"
   ]
  },
  {
   "cell_type": "code",
   "execution_count": 17,
   "id": "899117a5-6f2b-486b-b13a-52edf2ac1509",
   "metadata": {
    "execution": {
     "iopub.execute_input": "2023-10-26T01:56:13.570631Z",
     "iopub.status.busy": "2023-10-26T01:56:13.567836Z",
     "iopub.status.idle": "2023-10-26T01:56:13.584859Z",
     "shell.execute_reply": "2023-10-26T01:56:13.583413Z",
     "shell.execute_reply.started": "2023-10-26T01:56:13.570574Z"
    }
   },
   "outputs": [
    {
     "data": {
      "text/plain": [
       "11000"
      ]
     },
     "execution_count": 17,
     "metadata": {},
     "output_type": "execute_result"
    }
   ],
   "source": [
    "len(amostra_final)"
   ]
  },
  {
   "cell_type": "code",
   "execution_count": 36,
   "id": "edd87c07-9934-4122-a605-c4ef6ec9f126",
   "metadata": {
    "execution": {
     "iopub.execute_input": "2023-10-26T01:12:07.063699Z",
     "iopub.status.busy": "2023-10-26T01:12:07.057777Z",
     "iopub.status.idle": "2023-10-26T01:12:16.729751Z",
     "shell.execute_reply": "2023-10-26T01:12:16.728596Z",
     "shell.execute_reply.started": "2023-10-26T01:12:07.063607Z"
    }
   },
   "outputs": [
    {
     "name": "stderr",
     "output_type": "stream",
     "text": [
      "/usr/local/lib/python3.11/site-packages/folium/utilities.py:59: FutureWarning: Series.__getitem__ treating keys as positions is deprecated. In a future version, integer keys will always be treated as labels (consistent with DataFrame behavior). To access a value by position, use `ser.iloc[pos]`\n",
      "  coords = (location[0], location[1])\n",
      "/usr/local/lib/python3.11/site-packages/folium/utilities.py:59: FutureWarning: Series.__getitem__ treating keys as positions is deprecated. In a future version, integer keys will always be treated as labels (consistent with DataFrame behavior). To access a value by position, use `ser.iloc[pos]`\n",
      "  coords = (location[0], location[1])\n",
      "/usr/local/lib/python3.11/site-packages/folium/utilities.py:59: FutureWarning: Series.__getitem__ treating keys as positions is deprecated. In a future version, integer keys will always be treated as labels (consistent with DataFrame behavior). To access a value by position, use `ser.iloc[pos]`\n",
      "  coords = (location[0], location[1])\n",
      "/usr/local/lib/python3.11/site-packages/folium/utilities.py:59: FutureWarning: Series.__getitem__ treating keys as positions is deprecated. In a future version, integer keys will always be treated as labels (consistent with DataFrame behavior). To access a value by position, use `ser.iloc[pos]`\n",
      "  coords = (location[0], location[1])\n",
      "/usr/local/lib/python3.11/site-packages/folium/utilities.py:59: FutureWarning: Series.__getitem__ treating keys as positions is deprecated. In a future version, integer keys will always be treated as labels (consistent with DataFrame behavior). To access a value by position, use `ser.iloc[pos]`\n",
      "  coords = (location[0], location[1])\n",
      "/usr/local/lib/python3.11/site-packages/folium/utilities.py:59: FutureWarning: Series.__getitem__ treating keys as positions is deprecated. In a future version, integer keys will always be treated as labels (consistent with DataFrame behavior). To access a value by position, use `ser.iloc[pos]`\n",
      "  coords = (location[0], location[1])\n",
      "/usr/local/lib/python3.11/site-packages/folium/utilities.py:59: FutureWarning: Series.__getitem__ treating keys as positions is deprecated. In a future version, integer keys will always be treated as labels (consistent with DataFrame behavior). To access a value by position, use `ser.iloc[pos]`\n",
      "  coords = (location[0], location[1])\n",
      "/usr/local/lib/python3.11/site-packages/folium/utilities.py:59: FutureWarning: Series.__getitem__ treating keys as positions is deprecated. In a future version, integer keys will always be treated as labels (consistent with DataFrame behavior). To access a value by position, use `ser.iloc[pos]`\n",
      "  coords = (location[0], location[1])\n",
      "/usr/local/lib/python3.11/site-packages/folium/utilities.py:59: FutureWarning: Series.__getitem__ treating keys as positions is deprecated. In a future version, integer keys will always be treated as labels (consistent with DataFrame behavior). To access a value by position, use `ser.iloc[pos]`\n",
      "  coords = (location[0], location[1])\n",
      "/usr/local/lib/python3.11/site-packages/folium/utilities.py:59: FutureWarning: Series.__getitem__ treating keys as positions is deprecated. In a future version, integer keys will always be treated as labels (consistent with DataFrame behavior). To access a value by position, use `ser.iloc[pos]`\n",
      "  coords = (location[0], location[1])\n",
      "/usr/local/lib/python3.11/site-packages/folium/utilities.py:59: FutureWarning: Series.__getitem__ treating keys as positions is deprecated. In a future version, integer keys will always be treated as labels (consistent with DataFrame behavior). To access a value by position, use `ser.iloc[pos]`\n",
      "  coords = (location[0], location[1])\n"
     ]
    }
   ],
   "source": [
    "# Crie um mapa centralizado nos Estados Unidos.\n",
    "us_map = folium.Map(location=[39.8283, -98.5795], zoom_start=4)\n",
    "\n",
    "# Para cada cluster, encontre a coordenada representativa (poderia ser o centroide) e adicione um marcador circular proporcional ao tamanho do cluster.\n",
    "for cluster in amostra_final['cluster'].unique():\n",
    "    # Encontre a coordenada representativa do cluster (poderia ser o centroide).\n",
    "    cluster_data = amostra_final[amostra_final['cluster'] == cluster]\n",
    "    representative_coords = cluster_data[['lat_appx_lots_of_err', 'long_appx_lots_of_err']].mean()\n",
    "    \n",
    "    # Converta a coordenada para um nome de localização aproximado.\n",
    "    geolocator = Nominatim(user_agent=\"cluster_representative\")\n",
    "    location = geolocator.reverse(representative_coords.to_list(), exactly_one=True)\n",
    "    \n",
    "    # Calcule o raio da bola proporcional ao tamanho do cluster.\n",
    "    cluster_size = len(cluster_data)\n",
    "    radius = cluster_size / 100  # Ajuste o fator de escala conforme necessário para controlar o tamanho das bolas.\n",
    "    \n",
    "    # Crie um marcador circular no mapa com o tamanho proporcional ao tamanho do cluster.\n",
    "    folium.CircleMarker(\n",
    "        location=representative_coords,\n",
    "        radius=radius,\n",
    "        popup=f\"Cluster {cluster}<br>Tamanho: {cluster_size}<br>{location.address}\",\n",
    "        fill=True,\n",
    "        color='blue',\n",
    "        fill_color='blue'\n",
    "    ).add_to(us_map)\n",
    "\n",
    "# Salve o mapa em um arquivo HTML ou exiba-o no notebook.\n",
    "us_map.save('us_clusters_map_with_circles.html')\n"
   ]
  },
  {
   "cell_type": "code",
   "execution_count": 18,
   "id": "6948a208-05de-432e-976e-c267b67a4a2c",
   "metadata": {
    "execution": {
     "iopub.execute_input": "2023-10-26T01:56:39.921446Z",
     "iopub.status.busy": "2023-10-26T01:56:39.911193Z",
     "iopub.status.idle": "2023-10-26T01:56:40.563512Z",
     "shell.execute_reply": "2023-10-26T01:56:40.561897Z",
     "shell.execute_reply.started": "2023-10-26T01:56:39.921366Z"
    }
   },
   "outputs": [],
   "source": [
    "amostra_final.to_csv(\"amostra_final.csv\", sep=\",\")"
   ]
  },
  {
   "cell_type": "code",
   "execution_count": null,
   "id": "9a808c2c-c00f-470a-8ed7-6a68604081dc",
   "metadata": {},
   "outputs": [],
   "source": []
  }
 ],
 "metadata": {
  "kernelspec": {
   "display_name": "Python 3 (ipykernel)",
   "language": "python",
   "name": "python3"
  },
  "language_info": {
   "codemirror_mode": {
    "name": "ipython",
    "version": 3
   },
   "file_extension": ".py",
   "mimetype": "text/x-python",
   "name": "python",
   "nbconvert_exporter": "python",
   "pygments_lexer": "ipython3",
   "version": "3.11.6"
  }
 },
 "nbformat": 4,
 "nbformat_minor": 5
}
