{
 "cells": [
  {
   "cell_type": "code",
   "execution_count": 1,
   "id": "87c16ec1-6f48-427a-aa95-a2d4ead3bfe2",
   "metadata": {
    "execution": {
     "iopub.execute_input": "2023-10-26T02:25:01.319792Z",
     "iopub.status.busy": "2023-10-26T02:25:01.319057Z",
     "iopub.status.idle": "2023-10-26T02:25:03.360634Z",
     "shell.execute_reply": "2023-10-26T02:25:03.360291Z",
     "shell.execute_reply.started": "2023-10-26T02:25:01.319767Z"
    }
   },
   "outputs": [
    {
     "data": {
      "text/html": [
       "\n",
       "    <script src=\"/static/.hidden/netpixi.min.js\"></script>\n"
      ],
      "text/plain": [
       "<IPython.core.display.HTML object>"
      ]
     },
     "metadata": {},
     "output_type": "display_data"
    }
   ],
   "source": [
    "import graph_tool_extras as gte\n",
    "import netpixi\n",
    "from graph_tool import draw"
   ]
  },
  {
   "cell_type": "code",
   "execution_count": 2,
   "id": "7ab3695d-7d2d-4427-8f6a-d8b809147d14",
   "metadata": {
    "execution": {
     "iopub.execute_input": "2023-10-26T02:25:03.879693Z",
     "iopub.status.busy": "2023-10-26T02:25:03.879118Z",
     "iopub.status.idle": "2023-10-26T02:25:05.268805Z",
     "shell.execute_reply": "2023-10-26T02:25:05.268331Z",
     "shell.execute_reply.started": "2023-10-26T02:25:03.879672Z"
    }
   },
   "outputs": [],
   "source": [
    "g = gte.load('big_five_agree.net.gz')"
   ]
  },
  {
   "cell_type": "code",
   "execution_count": 3,
   "id": "dfebbfb5-51b1-40ba-b201-040635fbe978",
   "metadata": {
    "execution": {
     "iopub.execute_input": "2023-10-26T02:25:06.124715Z",
     "iopub.status.busy": "2023-10-26T02:25:06.124556Z",
     "iopub.status.idle": "2023-10-26T02:25:06.128198Z",
     "shell.execute_reply": "2023-10-26T02:25:06.127680Z",
     "shell.execute_reply.started": "2023-10-26T02:25:06.124703Z"
    }
   },
   "outputs": [
    {
     "data": {
      "text/plain": [
       "0.26314"
      ]
     },
     "execution_count": 3,
     "metadata": {},
     "output_type": "execute_result"
    }
   ],
   "source": [
    "g.density()"
   ]
  },
  {
   "cell_type": "code",
   "execution_count": 4,
   "id": "2a12822f-6632-4593-aa4b-8f25d2713366",
   "metadata": {
    "execution": {
     "iopub.execute_input": "2023-10-26T02:25:07.175452Z",
     "iopub.status.busy": "2023-10-26T02:25:07.175081Z",
     "iopub.status.idle": "2023-10-26T02:25:07.204006Z",
     "shell.execute_reply": "2023-10-26T02:25:07.203216Z",
     "shell.execute_reply.started": "2023-10-26T02:25:07.175428Z"
    }
   },
   "outputs": [
    {
     "data": {
      "text/plain": [
       "35.217591"
      ]
     },
     "execution_count": 4,
     "metadata": {},
     "output_type": "execute_result"
    }
   ],
   "source": [
    "g.transitivity()"
   ]
  },
  {
   "cell_type": "code",
   "execution_count": 5,
   "id": "922a8955-33df-43b1-bafd-0f2b65c96fc5",
   "metadata": {
    "execution": {
     "iopub.execute_input": "2023-10-26T02:25:09.307092Z",
     "iopub.status.busy": "2023-10-26T02:25:09.306715Z",
     "iopub.status.idle": "2023-10-26T02:25:09.314831Z",
     "shell.execute_reply": "2023-10-26T02:25:09.313016Z",
     "shell.execute_reply.started": "2023-10-26T02:25:09.307068Z"
    }
   },
   "outputs": [
    {
     "data": {
      "text/plain": [
       "137302"
      ]
     },
     "execution_count": 5,
     "metadata": {},
     "output_type": "execute_result"
    }
   ],
   "source": [
    "g.num_edges()"
   ]
  },
  {
   "cell_type": "code",
   "execution_count": 6,
   "id": "61f68e59-5522-4444-a6f5-cb547a65691e",
   "metadata": {
    "execution": {
     "iopub.execute_input": "2023-10-26T02:25:10.355863Z",
     "iopub.status.busy": "2023-10-26T02:25:10.354840Z",
     "iopub.status.idle": "2023-10-26T02:25:10.362134Z",
     "shell.execute_reply": "2023-10-26T02:25:10.360734Z",
     "shell.execute_reply.started": "2023-10-26T02:25:10.355839Z"
    }
   },
   "outputs": [
    {
     "data": {
      "text/plain": [
       "10216"
      ]
     },
     "execution_count": 6,
     "metadata": {},
     "output_type": "execute_result"
    }
   ],
   "source": [
    "g.num_vertices()"
   ]
  },
  {
   "cell_type": "code",
   "execution_count": 7,
   "id": "c32b2ff3-2e32-4e6e-8620-bf2e0facef68",
   "metadata": {
    "execution": {
     "iopub.execute_input": "2023-10-26T02:25:12.346370Z",
     "iopub.status.busy": "2023-10-26T02:25:12.345707Z",
     "iopub.status.idle": "2023-10-26T02:25:12.447325Z",
     "shell.execute_reply": "2023-10-26T02:25:12.446895Z",
     "shell.execute_reply.started": "2023-10-26T02:25:12.346345Z"
    }
   },
   "outputs": [
    {
     "data": {
      "image/png": "[encoded data removed]",
      "text/plain": [
       "<Figure size 640x480 with 1 Axes>"
      ]
     },
     "metadata": {},
     "output_type": "display_data"
    }
   ],
   "source": [
    "degrees = g.get_total_degrees()\n",
    "\n",
    "degrees.hist(bins=20);"
   ]
  },
  {
   "cell_type": "code",
   "execution_count": 8,
   "id": "31fd33c7-334d-406a-b763-fc3b1c97200a",
   "metadata": {
    "execution": {
     "iopub.execute_input": "2023-10-26T02:25:13.506332Z",
     "iopub.status.busy": "2023-10-26T02:25:13.505588Z",
     "iopub.status.idle": "2023-10-26T02:25:13.610764Z",
     "shell.execute_reply": "2023-10-26T02:25:13.609584Z",
     "shell.execute_reply.started": "2023-10-26T02:25:13.506297Z"
    }
   },
   "outputs": [
    {
     "data": {
      "image/png": "[encoded data removed]",
      "text/plain": [
       "<Figure size 640x480 with 1 Axes>"
      ]
     },
     "metadata": {},
     "output_type": "display_data"
    }
   ],
   "source": [
    "import matplotlib.pyplot as plt\n",
    "\n",
    "# Suponha que 'degrees' seja o seu objeto de dados\n",
    "plt.hist(degrees, bins=20)  # Crie o histograma\n",
    "\n",
    "\n",
    "# Salve o histograma em um arquivo PNG\n",
    "plt.savefig('histograma.png', format='png')\n",
    "\n",
    "# Exiba o histograma, se desejar\n",
    "plt.show()"
   ]
  },
  {
   "cell_type": "code",
   "execution_count": 9,
   "id": "4c2ed83d-37b2-40fc-9559-8fb30549d286",
   "metadata": {
    "execution": {
     "iopub.execute_input": "2023-10-26T02:25:14.656872Z",
     "iopub.status.busy": "2023-10-26T02:25:14.655760Z",
     "iopub.status.idle": "2023-10-26T02:25:14.676517Z",
     "shell.execute_reply": "2023-10-26T02:25:14.674416Z",
     "shell.execute_reply.started": "2023-10-26T02:25:14.656841Z"
    }
   },
   "outputs": [
    {
     "data": {
      "text/plain": [
       "count    10216.000000\n",
       "mean        26.879796\n",
       "std         24.516602\n",
       "min          1.000000\n",
       "25%          8.000000\n",
       "50%         19.000000\n",
       "75%         38.000000\n",
       "max        148.000000\n",
       "dtype: float64"
      ]
     },
     "execution_count": 9,
     "metadata": {},
     "output_type": "execute_result"
    }
   ],
   "source": [
    "degrees.describe()"
   ]
  },
  {
   "cell_type": "code",
   "execution_count": 10,
   "id": "2a32e5c0-361a-4c87-babc-86e274a33f43",
   "metadata": {
    "execution": {
     "iopub.execute_input": "2023-10-26T02:25:18.074194Z",
     "iopub.status.busy": "2023-10-26T02:25:18.073251Z",
     "iopub.status.idle": "2023-10-26T02:25:18.091378Z",
     "shell.execute_reply": "2023-10-26T02:25:18.090401Z",
     "shell.execute_reply.started": "2023-10-26T02:25:18.074169Z"
    }
   },
   "outputs": [],
   "source": [
    "import distribution as dst"
   ]
  },
  {
   "cell_type": "code",
   "execution_count": 11,
   "id": "c3cb640d-95e0-4599-ad36-cab73e202a24",
   "metadata": {
    "execution": {
     "iopub.execute_input": "2023-10-26T02:25:20.088570Z",
     "iopub.status.busy": "2023-10-26T02:25:20.087906Z",
     "iopub.status.idle": "2023-10-26T02:25:20.111685Z",
     "shell.execute_reply": "2023-10-26T02:25:20.109382Z",
     "shell.execute_reply.started": "2023-10-26T02:25:20.088549Z"
    }
   },
   "outputs": [
    {
     "name": "stdout",
     "output_type": "stream",
     "text": [
      "0.0\n"
     ]
    }
   ],
   "source": [
    "\n",
    "resultado = dst.not_normal(degrees)\n",
    "\n",
    "# Aumente o número de casas decimais, por exemplo, para 4 casas decimais\n",
    "resultado_formatado = round(resultado, 4)\n",
    "\n",
    "print(resultado_formatado)\n"
   ]
  },
  {
   "cell_type": "code",
   "execution_count": 12,
   "id": "50218ca8-79c5-40b6-9cf6-25381386013d",
   "metadata": {
    "execution": {
     "iopub.execute_input": "2023-10-26T02:25:20.977470Z",
     "iopub.status.busy": "2023-10-26T02:25:20.976758Z",
     "iopub.status.idle": "2023-10-26T02:25:21.065258Z",
     "shell.execute_reply": "2023-10-26T02:25:21.064383Z",
     "shell.execute_reply.started": "2023-10-26T02:25:20.977445Z"
    }
   },
   "outputs": [
    {
     "name": "stdout",
     "output_type": "stream",
     "text": [
      "Calculating best minimal value for power law fit\n",
      "xmin progress: 99%\r"
     ]
    },
    {
     "data": {
      "text/plain": [
       "(False, 0.5002591993326471)"
      ]
     },
     "execution_count": 12,
     "metadata": {},
     "output_type": "execute_result"
    }
   ],
   "source": [
    "dst.more_powerlaw_than_lognormal(degrees)"
   ]
  },
  {
   "cell_type": "code",
   "execution_count": 13,
   "id": "5d7fe18d-846a-420e-8ba8-15a706aa3a46",
   "metadata": {
    "execution": {
     "iopub.execute_input": "2023-10-26T02:25:22.727665Z",
     "iopub.status.busy": "2023-10-26T02:25:22.725469Z",
     "iopub.status.idle": "2023-10-26T02:25:22.757147Z",
     "shell.execute_reply": "2023-10-26T02:25:22.756552Z",
     "shell.execute_reply.started": "2023-10-26T02:25:22.727634Z"
    }
   },
   "outputs": [
    {
     "name": "stdout",
     "output_type": "stream",
     "text": [
      "Calculating best minimal value for power law fit\n",
      "xmin progress: 99%\r"
     ]
    },
    {
     "data": {
      "text/plain": [
       "(False, 0.26904334516637896)"
      ]
     },
     "execution_count": 13,
     "metadata": {},
     "output_type": "execute_result"
    }
   ],
   "source": [
    "dst.more_powerlaw_than_exponential(degrees)"
   ]
  },
  {
   "cell_type": "code",
   "execution_count": 14,
   "id": "5063d315-c3de-458c-8370-b599ec55d52a",
   "metadata": {
    "execution": {
     "iopub.execute_input": "2023-10-26T02:25:23.203905Z",
     "iopub.status.busy": "2023-10-26T02:25:23.203745Z",
     "iopub.status.idle": "2023-10-26T02:25:23.296118Z",
     "shell.execute_reply": "2023-10-26T02:25:23.294982Z",
     "shell.execute_reply.started": "2023-10-26T02:25:23.203892Z"
    }
   },
   "outputs": [
    {
     "data": {
      "image/png": "[encoded data removed]",
      "text/plain": [
       "<Figure size 640x480 with 1 Axes>"
      ]
     },
     "metadata": {},
     "output_type": "display_data"
    }
   ],
   "source": [
    "degrees.hist();"
   ]
  },
  {
   "cell_type": "markdown",
   "id": "6beae323-a0aa-452e-85a0-013079747542",
   "metadata": {},
   "source": [
    "## Distancias"
   ]
  },
  {
   "cell_type": "code",
   "execution_count": 15,
   "id": "66ac4ef0-54bc-4b61-b24c-3028e09aae28",
   "metadata": {
    "execution": {
     "iopub.execute_input": "2023-10-26T02:25:55.603845Z",
     "iopub.status.busy": "2023-10-26T02:25:55.601521Z",
     "iopub.status.idle": "2023-10-26T02:25:55.621101Z",
     "shell.execute_reply": "2023-10-26T02:25:55.619821Z",
     "shell.execute_reply.started": "2023-10-26T02:25:55.603758Z"
    }
   },
   "outputs": [],
   "source": [
    "import random\n",
    "from graph_tool import Graph, load_graph\n",
    "\n",
    "# Número de vértices no grafo original\n",
    "num_vertices = 10216\n",
    "\n",
    "# Tamanho da amostra (por exemplo, 8000)\n",
    "sample_size = 1021\n",
    "\n",
    "# Crie uma lista com 'sample_size' índices de vértices aleatórios\n",
    "random_vertex_indices = random.sample(range(num_vertices), sample_size)"
   ]
  },
  {
   "cell_type": "code",
   "execution_count": 16,
   "id": "38afbdfa-6511-4a0f-94c0-d3da2d44ca4f",
   "metadata": {
    "execution": {
     "iopub.execute_input": "2023-10-26T02:25:56.837587Z",
     "iopub.status.busy": "2023-10-26T02:25:56.836975Z",
     "iopub.status.idle": "2023-10-26T02:25:56.854099Z",
     "shell.execute_reply": "2023-10-26T02:25:56.852372Z",
     "shell.execute_reply.started": "2023-10-26T02:25:56.837556Z"
    }
   },
   "outputs": [],
   "source": [
    "# Crie um novo grafo vazio\n",
    "new_graph = Graph(directed=False)"
   ]
  },
  {
   "cell_type": "code",
   "execution_count": 17,
   "id": "316fb78d-45c8-4d0a-bf6a-81a62a56fef0",
   "metadata": {
    "execution": {
     "iopub.execute_input": "2023-10-26T02:25:58.048269Z",
     "iopub.status.busy": "2023-10-26T02:25:58.047907Z",
     "iopub.status.idle": "2023-10-26T02:25:58.053475Z",
     "shell.execute_reply": "2023-10-26T02:25:58.052309Z",
     "shell.execute_reply.started": "2023-10-26T02:25:58.048247Z"
    }
   },
   "outputs": [],
   "source": [
    "# Crie um dicionário para mapear os IDs dos vértices originais para os vértices no novo grafo\n",
    "vertex_mapping = {}"
   ]
  },
  {
   "cell_type": "code",
   "execution_count": 18,
   "id": "0ca6859e-0e90-445d-bd50-c179fda1fcb8",
   "metadata": {
    "execution": {
     "iopub.execute_input": "2023-10-26T02:25:58.514373Z",
     "iopub.status.busy": "2023-10-26T02:25:58.514028Z",
     "iopub.status.idle": "2023-10-26T02:25:58.531784Z",
     "shell.execute_reply": "2023-10-26T02:25:58.530602Z",
     "shell.execute_reply.started": "2023-10-26T02:25:58.514351Z"
    }
   },
   "outputs": [],
   "source": [
    "# Adicione os vértices aleatórios ao novo grafo e faça o mapeamento\n",
    "for vertex_index in random_vertex_indices:\n",
    "    new_vertex = new_graph.add_vertex()\n",
    "    vertex_mapping[vertex_index] = new_vertex"
   ]
  },
  {
   "cell_type": "code",
   "execution_count": 19,
   "id": "527ca5c2-0385-4d5b-8da6-33a299f2c14f",
   "metadata": {
    "execution": {
     "iopub.execute_input": "2023-10-26T02:25:59.151614Z",
     "iopub.status.busy": "2023-10-26T02:25:59.150924Z",
     "iopub.status.idle": "2023-10-26T02:25:59.434517Z",
     "shell.execute_reply": "2023-10-26T02:25:59.434068Z",
     "shell.execute_reply.started": "2023-10-26T02:25:59.151585Z"
    }
   },
   "outputs": [],
   "source": [
    "# Transferir as arestas existentes entre os vértices selecionados\n",
    "for source_vertex_index in random_vertex_indices:\n",
    "    source_vertex = vertex_mapping[source_vertex_index]\n",
    "    for neighbor in g.vertex(source_vertex_index).all_neighbors():\n",
    "        target_vertex_index = neighbor.out_degree()\n",
    "        if target_vertex_index in random_vertex_indices:\n",
    "            new_target_vertex = vertex_mapping[target_vertex_index]\n",
    "            new_graph.add_edge(source_vertex, new_target_vertex)"
   ]
  },
  {
   "cell_type": "code",
   "execution_count": 20,
   "id": "0838c992-6ef1-4c6e-992f-cee9c30ecab2",
   "metadata": {
    "execution": {
     "iopub.execute_input": "2023-10-26T02:26:00.251196Z",
     "iopub.status.busy": "2023-10-26T02:26:00.250281Z",
     "iopub.status.idle": "2023-10-26T02:26:00.259071Z",
     "shell.execute_reply": "2023-10-26T02:26:00.257720Z",
     "shell.execute_reply.started": "2023-10-26T02:26:00.251167Z"
    }
   },
   "outputs": [
    {
     "data": {
      "text/plain": [
       "1529"
      ]
     },
     "execution_count": 20,
     "metadata": {},
     "output_type": "execute_result"
    }
   ],
   "source": [
    "new_graph.num_edges()"
   ]
  },
  {
   "cell_type": "code",
   "execution_count": 21,
   "id": "08a45dc6-86d0-4556-a91a-1bfee00fda38",
   "metadata": {
    "execution": {
     "iopub.execute_input": "2023-10-26T02:26:01.197133Z",
     "iopub.status.busy": "2023-10-26T02:26:01.196262Z",
     "iopub.status.idle": "2023-10-26T02:26:01.215123Z",
     "shell.execute_reply": "2023-10-26T02:26:01.214396Z",
     "shell.execute_reply.started": "2023-10-26T02:26:01.197106Z"
    }
   },
   "outputs": [
    {
     "data": {
      "text/plain": [
       "1021"
      ]
     },
     "execution_count": 21,
     "metadata": {},
     "output_type": "execute_result"
    }
   ],
   "source": [
    "new_graph.num_vertices()"
   ]
  },
  {
   "cell_type": "code",
   "execution_count": 22,
   "id": "85481b31-023c-4dc2-a87a-a3ecfd1f894d",
   "metadata": {
    "execution": {
     "iopub.execute_input": "2023-10-26T02:26:02.288158Z",
     "iopub.status.busy": "2023-10-26T02:26:02.287746Z",
     "iopub.status.idle": "2023-10-26T02:26:02.294047Z",
     "shell.execute_reply": "2023-10-26T02:26:02.292859Z",
     "shell.execute_reply.started": "2023-10-26T02:26:02.288137Z"
    }
   },
   "outputs": [],
   "source": [
    "# Suponha que você deseja calcular as distâncias a partir de um vértice de origem, por exemplo, o vértice 0.\n",
    "source_vertex_index = 0"
   ]
  },
  {
   "cell_type": "code",
   "execution_count": 23,
   "id": "6a78c804-e82c-45d9-a2c8-cf933e89804a",
   "metadata": {
    "execution": {
     "iopub.execute_input": "2023-10-26T02:26:03.283317Z",
     "iopub.status.busy": "2023-10-26T02:26:03.283103Z",
     "iopub.status.idle": "2023-10-26T02:26:03.288781Z",
     "shell.execute_reply": "2023-10-26T02:26:03.288126Z",
     "shell.execute_reply.started": "2023-10-26T02:26:03.283306Z"
    }
   },
   "outputs": [],
   "source": [
    "# Suponha que você deseja calcular as distâncias a partir de um vértice de origem, por exemplo, o vértice 0.\n",
    "source_vertex_index = 0"
   ]
  },
  {
   "cell_type": "code",
   "execution_count": 24,
   "id": "3cc15a17-66c3-4a23-8153-85a9f4f92f7d",
   "metadata": {
    "execution": {
     "iopub.execute_input": "2023-10-26T02:26:04.168082Z",
     "iopub.status.busy": "2023-10-26T02:26:04.167693Z",
     "iopub.status.idle": "2023-10-26T02:26:04.182573Z",
     "shell.execute_reply": "2023-10-26T02:26:04.181509Z",
     "shell.execute_reply.started": "2023-10-26T02:26:04.168061Z"
    }
   },
   "outputs": [],
   "source": [
    "new_graph.save('new_graph.gt')"
   ]
  },
  {
   "cell_type": "code",
   "execution_count": 25,
   "id": "76e1fa54-85f5-49b3-921b-109ff7d0588e",
   "metadata": {
    "execution": {
     "iopub.execute_input": "2023-10-26T02:26:05.746441Z",
     "iopub.status.busy": "2023-10-26T02:26:05.745583Z",
     "iopub.status.idle": "2023-10-26T02:26:05.755121Z",
     "shell.execute_reply": "2023-10-26T02:26:05.752693Z",
     "shell.execute_reply.started": "2023-10-26T02:26:05.746396Z"
    }
   },
   "outputs": [],
   "source": [
    "import numpy as np\n",
    "import matplotlib.pyplot as plt\n",
    "from graph_tool import Graph\n",
    "from graph_tool.topology import shortest_distance\n"
   ]
  },
  {
   "cell_type": "code",
   "execution_count": 26,
   "id": "c175845c-c92f-46a3-9938-0017859bb1fd",
   "metadata": {
    "execution": {
     "iopub.execute_input": "2023-10-26T02:26:06.613090Z",
     "iopub.status.busy": "2023-10-26T02:26:06.611959Z",
     "iopub.status.idle": "2023-10-26T02:26:06.617985Z",
     "shell.execute_reply": "2023-10-26T02:26:06.616739Z",
     "shell.execute_reply.started": "2023-10-26T02:26:06.613062Z"
    }
   },
   "outputs": [],
   "source": [
    "# Escolha o vértice de origem (por exemplo, o primeiro vértice)\n",
    "source_vertex = new_graph.vertex(0)\n"
   ]
  },
  {
   "cell_type": "code",
   "execution_count": 27,
   "id": "f1aa31d4-0795-4e95-9983-bc32c615db1b",
   "metadata": {
    "execution": {
     "iopub.execute_input": "2023-10-26T02:26:07.261815Z",
     "iopub.status.busy": "2023-10-26T02:26:07.261416Z",
     "iopub.status.idle": "2023-10-26T02:26:07.286861Z",
     "shell.execute_reply": "2023-10-26T02:26:07.285652Z",
     "shell.execute_reply.started": "2023-10-26T02:26:07.261794Z"
    }
   },
   "outputs": [],
   "source": [
    "\n",
    "# Calcule as distâncias mínimas usando BFS\n",
    "distances = shortest_distance(g, source=source_vertex)\n"
   ]
  },
  {
   "cell_type": "code",
   "execution_count": 40,
   "id": "48ccdcdc-4492-43af-97ef-6f6cc74d2c42",
   "metadata": {
    "execution": {
     "iopub.execute_input": "2023-10-26T02:32:41.281714Z",
     "iopub.status.busy": "2023-10-26T02:32:41.280084Z",
     "iopub.status.idle": "2023-10-26T02:32:41.405441Z",
     "shell.execute_reply": "2023-10-26T02:32:41.404487Z",
     "shell.execute_reply.started": "2023-10-26T02:32:41.281603Z"
    }
   },
   "outputs": [
    {
     "data": {
      "image/png": "[encoded data removed]",
      "text/plain": [
       "<Figure size 640x480 with 1 Axes>"
      ]
     },
     "metadata": {},
     "output_type": "display_data"
    }
   ],
   "source": [
    "# Plote o histograma\n",
    "plt.hist(distances.a, bins=15)\n",
    "\n",
    "# Salve o histograma em um arquivo de imagem (por exemplo, PNG)\n",
    "plt.savefig('histograma_distancias.png')\n",
    "\n",
    "# Mostre a figura\n",
    "plt.show()"
   ]
  },
  {
   "cell_type": "code",
   "execution_count": 39,
   "id": "ff9a5123-b0bb-4862-ae1e-4bb253277465",
   "metadata": {
    "execution": {
     "iopub.execute_input": "2023-10-26T02:31:55.943048Z",
     "iopub.status.busy": "2023-10-26T02:31:55.941697Z",
     "iopub.status.idle": "2023-10-26T02:31:55.992183Z",
     "shell.execute_reply": "2023-10-26T02:31:55.991606Z",
     "shell.execute_reply.started": "2023-10-26T02:31:55.943018Z"
    }
   },
   "outputs": [
    {
     "data": {
      "text/plain": [
       "<Figure size 640x480 with 0 Axes>"
      ]
     },
     "metadata": {},
     "output_type": "display_data"
    }
   ],
   "source": [
    "plt.savefig('histograma_distancias.png')"
   ]
  },
  {
   "cell_type": "code",
   "execution_count": 41,
   "id": "c11da976-90f8-4dff-97c5-21dcc7bf3c69",
   "metadata": {
    "execution": {
     "iopub.execute_input": "2023-10-26T02:33:13.961140Z",
     "iopub.status.busy": "2023-10-26T02:33:13.959894Z",
     "iopub.status.idle": "2023-10-26T02:33:13.976736Z",
     "shell.execute_reply": "2023-10-26T02:33:13.969872Z",
     "shell.execute_reply.started": "2023-10-26T02:33:13.961054Z"
    }
   },
   "outputs": [],
   "source": [
    "import numpy as np\n",
    "from graph_tool import Graph\n",
    "from graph_tool.topology import shortest_distance"
   ]
  },
  {
   "cell_type": "code",
   "execution_count": 42,
   "id": "9b7d61c1-1f3e-4352-8797-2e7f8f64901d",
   "metadata": {
    "execution": {
     "iopub.execute_input": "2023-10-26T02:33:14.317103Z",
     "iopub.status.busy": "2023-10-26T02:33:14.315436Z",
     "iopub.status.idle": "2023-10-26T02:33:14.346408Z",
     "shell.execute_reply": "2023-10-26T02:33:14.346048Z",
     "shell.execute_reply.started": "2023-10-26T02:33:14.317069Z"
    }
   },
   "outputs": [
    {
     "name": "stdout",
     "output_type": "stream",
     "text": [
      "mean 8.244714\n",
      "std  1.817221\n",
      "min. 0.000000\n",
      "25%  7.000000\n",
      "50%  8.000000\n",
      "75%  9.000000\n",
      "max  15.000000\n"
     ]
    }
   ],
   "source": [
    "# Escolha o vértice de origem (por exemplo, o primeiro vértice)\n",
    "source_vertex = new_graph.vertex(0)\n",
    "\n",
    "# Calcule as distâncias mínimas usando BFS\n",
    "distances = shortest_distance(g, source=source_vertex)\n",
    "\n",
    "# Calcule as estatísticas descritivas das distâncias\n",
    "mean_distance = np.mean(distances.a)\n",
    "std_deviation = np.std(distances.a)\n",
    "min_distance = np.min(distances.a)\n",
    "q25 = np.percentile(distances.a, 25)\n",
    "median = np.percentile(distances.a, 50)\n",
    "q75 = np.percentile(distances.a, 75)\n",
    "max_distance = np.max(distances.a)\n",
    "\n",
    "# Imprima as estatísticas descritivas\n",
    "print(f\"mean {mean_distance:.6f}\")\n",
    "print(f\"std  {std_deviation:.6f}\")\n",
    "print(f\"min. {min_distance:.6f}\")\n",
    "print(f\"25%  {q25:.6f}\")\n",
    "print(f\"50%  {median:.6f}\")\n",
    "print(f\"75%  {q75:.6f}\")\n",
    "print(f\"max  {max_distance:.6f}\")"
   ]
  },
  {
   "cell_type": "code",
   "execution_count": null,
   "id": "59ced977-3610-4fa9-ae4d-7d0483e896a2",
   "metadata": {},
   "outputs": [],
   "source": []
  }
 ],
 "metadata": {
  "kernelspec": {
   "display_name": "Python 3 (ipykernel)",
   "language": "python",
   "name": "python3"
  },
  "language_info": {
   "codemirror_mode": {
    "name": "ipython",
    "version": 3
   },
   "file_extension": ".py",
   "mimetype": "text/x-python",
   "name": "python",
   "nbconvert_exporter": "python",
   "pygments_lexer": "ipython3",
   "version": "3.11.6"
  }
 },
 "nbformat": 4,
 "nbformat_minor": 5
}
